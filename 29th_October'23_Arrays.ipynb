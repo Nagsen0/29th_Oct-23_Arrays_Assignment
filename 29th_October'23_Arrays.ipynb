{
 "cells": [
  {
   "cell_type": "raw",
   "id": "c43f139e-0c76-4341-979d-0552f2e05d62",
   "metadata": {},
   "source": [
    "1. Given an array, check if it contains any duplicates or not.\n",
    "    arr=[1,2,4,2,5,9]\n",
    "    Output=True"
   ]
  },
  {
   "cell_type": "code",
   "execution_count": 1,
   "id": "39ef0a04-30bf-4374-907e-5f91d6bf3281",
   "metadata": {},
   "outputs": [
    {
     "name": "stdout",
     "output_type": "stream",
     "text": [
      "True\n"
     ]
    }
   ],
   "source": [
    "def check_duplicate(arr):\n",
    "    for i in arr:\n",
    "        if arr.count(i)>=2:\n",
    "            return True\n",
    "        \n",
    "    return False\n",
    "    \n",
    "# driver code\n",
    "arr=[1,2,4,2,5,9]\n",
    "r=check_duplicate(arr)\n",
    "print(r)"
   ]
  },
  {
   "cell_type": "raw",
   "id": "4cf7a05b-86b9-4db7-b9d3-d256af8b4b69",
   "metadata": {},
   "source": [
    "2. Given an array and an integer k, rotate the array to the right by k steps.\n",
    "    arr=[1,2,3,4,5,6,7]  k=3\n",
    "    Output=[5,6,7,1,2,3,4]"
   ]
  },
  {
   "cell_type": "code",
   "execution_count": 20,
   "id": "197cd020-661f-45cd-ae11-77d1893def3e",
   "metadata": {},
   "outputs": [
    {
     "name": "stdout",
     "output_type": "stream",
     "text": [
      "[5, 6, 7, 1, 2, 3, 4]\n"
     ]
    }
   ],
   "source": [
    "def rotate_array(arr,k):\n",
    "    # Calculate the effective rotation index, taking into account values greater than the array length\n",
    "    k=k%len(arr)\n",
    "    \n",
    "    # reverse the entire array\n",
    "    reverse(arr,0,len(arr)-1)\n",
    "    \n",
    "    # reverse the first k elements\n",
    "    reverse(arr,0,k-1)\n",
    "    \n",
    "    # reverse the remaining elements\n",
    "    reverse(arr, k, len(arr)-1)\n",
    "    \n",
    "def reverse(arr,start,end):\n",
    "    while start<end:\n",
    "        arr[start],arr[end]=arr[end],arr[start]\n",
    "        start+=1\n",
    "        end-=1\n",
    "        \n",
    "# Example usage:\n",
    "arr=[1,2,3,4,5,6,7]\n",
    "k=3\n",
    "rotate_array(arr,k)\n",
    "print(arr)"
   ]
  },
  {
   "cell_type": "raw",
   "id": "f1beea1e-f73c-4536-9708-8a53c8cfa2d7",
   "metadata": {},
   "source": [
    "3. Reverse the given array in-place, means without using any extra data structure.\n",
    "   arr=[2,4,5,7,9,12]\n",
    "    Output=[12,9,7,5,4,2]"
   ]
  },
  {
   "cell_type": "code",
   "execution_count": 31,
   "id": "bf8427e5-010d-40eb-91a5-d08a213b5f6e",
   "metadata": {},
   "outputs": [
    {
     "name": "stdout",
     "output_type": "stream",
     "text": [
      "[12, 9, 7, 5, 4, 2]\n"
     ]
    }
   ],
   "source": [
    "def reverse_array_in_place(arr):\n",
    "    left=0\n",
    "    right=len(arr)-1\n",
    "    \n",
    "    while left<right:\n",
    "        # swap elements at the left and right indices\n",
    "        arr[left],arr[right]=arr[right],arr[left]\n",
    "        \n",
    "        # move the pointers towards the center\n",
    "        left+=1\n",
    "        right-=1\n",
    "\n",
    "# driver code\n",
    "arr=[2,4,5,7,9,12]\n",
    "reverse_array_in_place(arr)\n",
    "print(arr)"
   ]
  },
  {
   "cell_type": "raw",
   "id": "52324750-92f3-4d37-89e6-c17428ad4af4",
   "metadata": {},
   "source": [
    "4. Given an array of integers, find the maximum element in an array\n",
    "    arr=[10,5,20,8,15]\n",
    "    Output=20"
   ]
  },
  {
   "cell_type": "code",
   "execution_count": 2,
   "id": "0bad41ac-d1a1-491f-8dcf-cfe62da2fd69",
   "metadata": {},
   "outputs": [
    {
     "data": {
      "text/plain": [
       "20"
      ]
     },
     "execution_count": 2,
     "metadata": {},
     "output_type": "execute_result"
    }
   ],
   "source": [
    "def find_max(arr):\n",
    "    if not arr:\n",
    "        return None  # return none for an empty array\n",
    "    \n",
    "    max_element=arr[0] # initialize max_element with the first element\n",
    "    \n",
    "    for num in arr:\n",
    "        if num>max_element:\n",
    "            max_element=num\n",
    "    return max_element\n",
    "\n",
    "# driver code\n",
    "arr=[10, 5,20,8,15]\n",
    "find_max(arr)"
   ]
  },
  {
   "cell_type": "raw",
   "id": "97633aa7-5887-4475-b517-295acdcca381",
   "metadata": {},
   "source": [
    "5. Given a sorted array, remove the duplicate element without using any extra data structure.\n",
    "    arr=[1,1,2,2,2,3,3,4,4,4,5,5]\n",
    "    output=[1,2,3,4,5]"
   ]
  },
  {
   "cell_type": "code",
   "execution_count": 40,
   "id": "3f722bbc-e1fa-48e1-a193-a1eb27c60459",
   "metadata": {},
   "outputs": [
    {
     "name": "stdout",
     "output_type": "stream",
     "text": [
      "[1, 2, 3, 4, 5]\n"
     ]
    }
   ],
   "source": [
    "def remove_duplicates(arr):\n",
    "    if len(arr) == 0:\n",
    "        return 0  # If the array is empty, no duplicates to remove\n",
    "\n",
    "    # Initialize a variable to keep track of the new length of the array\n",
    "    new_length = 1  # The first element is always unique\n",
    "\n",
    "    # Iterate through the sorted array\n",
    "    for i in range(1, len(arr)):\n",
    "        # If the current element is different from the previous element, keep it\n",
    "        if arr[i] != arr[i - 1]:\n",
    "            arr[new_length] = arr[i]\n",
    "            new_length += 1\n",
    "\n",
    "    return new_length\n",
    "\n",
    "# Example usage:\n",
    "arr = [1, 1, 2, 2, 2, 3, 3, 4, 4, 4, 5, 5]\n",
    "new_length = remove_duplicates(arr)\n",
    "print(arr[:new_length])  # Output: [1, 2, 3, 4, 5]\n"
   ]
  },
  {
   "cell_type": "code",
   "execution_count": null,
   "id": "7973f80a-fa96-485c-982a-c1baa8b26772",
   "metadata": {},
   "outputs": [],
   "source": []
  }
 ],
 "metadata": {
  "kernelspec": {
   "display_name": "Python 3 (ipykernel)",
   "language": "python",
   "name": "python3"
  },
  "language_info": {
   "codemirror_mode": {
    "name": "ipython",
    "version": 3
   },
   "file_extension": ".py",
   "mimetype": "text/x-python",
   "name": "python",
   "nbconvert_exporter": "python",
   "pygments_lexer": "ipython3",
   "version": "3.10.8"
  }
 },
 "nbformat": 4,
 "nbformat_minor": 5
}
